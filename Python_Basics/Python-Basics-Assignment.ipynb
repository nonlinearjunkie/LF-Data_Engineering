{
 "cells": [
  {
   "cell_type": "markdown",
   "metadata": {},
   "source": [
    "## Python program to get the smallest and largest number from a list of integers\n"
   ]
  },
  {
   "cell_type": "code",
   "execution_count": 1,
   "metadata": {},
   "outputs": [],
   "source": [
    "def find_largest_and_smallest(input_list):\n",
    "    \n",
    "    is_first=True\n",
    "    for num in input_list:\n",
    "        \n",
    "        if(is_first):\n",
    "            \n",
    "            largest_num=num\n",
    "            smallest_num=num\n",
    "            is_first=False\n",
    "        else:\n",
    "            \n",
    "            if(num>largest_num):\n",
    "                largest_num=num\n",
    "            if(num<smallest_num):\n",
    "                smallest_num=num\n",
    "        \n",
    "    return (largest_num,smallest_num)    "
   ]
  },
  {
   "cell_type": "code",
   "execution_count": 2,
   "metadata": {},
   "outputs": [
    {
     "name": "stdout",
     "output_type": "stream",
     "text": [
      "Smallest number in my list is -30 and largest num is 4500.\n"
     ]
    }
   ],
   "source": [
    "my_list=[-30,20,100,34,2000,4500]\n",
    "largest_num,smallest_num=find_largest_and_smallest(my_list)\n",
    "print(f\"Smallest number in my list is {smallest_num} and largest num is {largest_num}.\")"
   ]
  },
  {
   "cell_type": "markdown",
   "metadata": {},
   "source": [
    "## Python program to get the following pattern using a nested loop\n",
    "\n",
    "1\n",
    "\n",
    "22\n",
    "\n",
    "333\n",
    "\n",
    "4444\n",
    "\n",
    "55555\n",
    "\n",
    "666666\n",
    "\n",
    "7777777\n",
    "\n",
    "88888888\n",
    "\n",
    "999999999\n"
   ]
  },
  {
   "cell_type": "code",
   "execution_count": 3,
   "metadata": {},
   "outputs": [
    {
     "name": "stdout",
     "output_type": "stream",
     "text": [
      "1\n",
      "22\n",
      "333\n",
      "4444\n",
      "55555\n",
      "666666\n",
      "7777777\n",
      "88888888\n",
      "999999999\n"
     ]
    }
   ],
   "source": [
    "for i in range(1,10):\n",
    "    for j in range(i):\n",
    "        print(i,end=\"\")\n",
    "    print(\"\")    "
   ]
  },
  {
   "cell_type": "markdown",
   "metadata": {},
   "source": [
    "## Python program to swap cases of given String"
   ]
  },
  {
   "cell_type": "code",
   "execution_count": 4,
   "metadata": {},
   "outputs": [],
   "source": [
    "def swap_case(input_string):\n",
    "    \n",
    "    output_string=\"\"\n",
    "    for char in input_string:\n",
    "        \n",
    "        if char.islower():\n",
    "            char=char.upper()\n",
    "        else:\n",
    "            char=char.lower()\n",
    "        output_string+=char\n",
    "        \n",
    "    return output_string\n",
    "    "
   ]
  },
  {
   "cell_type": "code",
   "execution_count": 5,
   "metadata": {},
   "outputs": [
    {
     "name": "stdout",
     "output_type": "stream",
     "text": [
      "pYTHONIST 2\n"
     ]
    }
   ],
   "source": [
    "print(swap_case(\"Pythonist 2\"))"
   ]
  },
  {
   "cell_type": "markdown",
   "metadata": {},
   "source": [
    "## Given a sentence use string split and join to get the result as shown below:\n",
    "\n",
    "```\n",
    "Sample Input: this is a string   \n",
    "Sample Output: this-is-a-string\n",
    "```"
   ]
  },
  {
   "cell_type": "code",
   "execution_count": 6,
   "metadata": {},
   "outputs": [
    {
     "name": "stdout",
     "output_type": "stream",
     "text": [
      "this-is-a-string\n"
     ]
    }
   ],
   "source": [
    "def split_and_join(input_string):\n",
    "    \n",
    "    words_list=input_string.split(\" \")\n",
    "    output_string=\"-\".join(words_list)\n",
    "    \n",
    "    return output_string\n",
    "\n",
    "print(split_and_join(\"this is a string\"))"
   ]
  },
  {
   "cell_type": "markdown",
   "metadata": {},
   "source": [
    "## Python program to find the difference between consecutive numbers in a given list."
   ]
  },
  {
   "cell_type": "code",
   "execution_count": 7,
   "metadata": {},
   "outputs": [
    {
     "name": "stdout",
     "output_type": "stream",
     "text": [
      "[1, 3, 1, -3, 4]\n"
     ]
    }
   ],
   "source": [
    "def find_diff(input_list):\n",
    "    \n",
    "    diff_list=[]\n",
    "    input_len=len(input_list)\n",
    "    \n",
    "    for i in range(input_len-1):\n",
    "        diff=input_list[i+1]-input_list[i]\n",
    "        diff_list.append(diff)\n",
    "    \n",
    "    return diff_list\n",
    "    \n",
    "print(find_diff([4, 5, 8, 9, 6, 10]))    "
   ]
  },
  {
   "cell_type": "markdown",
   "metadata": {},
   "source": [
    "## Python program to get the frequency of the elements in a given list of lists.\n"
   ]
  },
  {
   "cell_type": "code",
   "execution_count": 8,
   "metadata": {},
   "outputs": [
    {
     "name": "stdout",
     "output_type": "stream",
     "text": [
      "{1: 1, 2: 3, 3: 1, 4: 1, 5: 2, 6: 1, 7: 1, 8: 1, 9: 1}\n"
     ]
    }
   ],
   "source": [
    "def find_frequency(list_of_lists):\n",
    "    \n",
    "    freq_dict={}\n",
    "    for l in list_of_lists:\n",
    "        \n",
    "        for element in l:\n",
    "            \n",
    "            if(freq_dict.get(element)):\n",
    "                freq_dict[element]+=1\n",
    "            else:\n",
    "                freq_dict[element]=1\n",
    "    \n",
    "    return freq_dict\n",
    "\n",
    "\n",
    "print(find_frequency([[1, 2, 3, 2], [4, 5, 6, 2], [7, 8, 9, 5]]))\n",
    "                      "
   ]
  },
  {
   "cell_type": "markdown",
   "metadata": {},
   "source": [
    "### Python program to combine two lists into a dictionary, where the elements of the first one serve as the keys and the elements of the second one serve as the values. "
   ]
  },
  {
   "cell_type": "code",
   "execution_count": 9,
   "metadata": {},
   "outputs": [
    {
     "name": "stdout",
     "output_type": "stream",
     "text": [
      "{'a': 1, 'b': 2, 'c': 3, 'd': 4, 'e': 5}\n"
     ]
    }
   ],
   "source": [
    "def lists_to_dict(list1,list2):\n",
    "    \n",
    "    output_dict={}\n",
    "    len_list1=len(list1)\n",
    "    len_list2=len(list2)\n",
    "    \n",
    "    num_of_keys=min(len_list1,len_list2)\n",
    "    \n",
    "    for i in range(num_of_keys):\n",
    "        \n",
    "        if(not output_dict.get(list1[i])):\n",
    "            \n",
    "            key=list1[i]\n",
    "            value=list2[i]\n",
    "            output_dict[key]=value\n",
    "    return output_dict        \n",
    "\n",
    "print(lists_to_dict(['a', 'b', 'c', 'd', 'e', 'f'],[1, 2, 3, 4, 5]))\n",
    "    \n",
    "    "
   ]
  },
  {
   "cell_type": "markdown",
   "metadata": {},
   "source": [
    " ## Python program to find the key of the maximum and minimmum value in a dictionary"
   ]
  },
  {
   "cell_type": "code",
   "execution_count": 10,
   "metadata": {},
   "outputs": [
    {
     "name": "stdout",
     "output_type": "stream",
     "text": [
      "The key with max value is Roxanne and key with minimmum value is Theodore.\n"
     ]
    }
   ],
   "source": [
    "def find_max_and_min_keys(input_dict):\n",
    "    \n",
    "    is_first=True\n",
    "    for (key,value) in input_dict.items():\n",
    "        \n",
    "        if(is_first):\n",
    "            \n",
    "            key_with_max_value=key\n",
    "            key_with_min_value=key\n",
    "            max_value=value\n",
    "            min_value=value\n",
    "            is_first=False\n",
    "            \n",
    "        else:\n",
    "            \n",
    "            if(value>max_value):\n",
    "                key_with_max_value=key\n",
    "                max_value=value\n",
    "            \n",
    "            if(value<min_value):\n",
    "                key_with_min_value=key\n",
    "                min_value=value\n",
    "                \n",
    "    return (key_with_max_value,key_with_min_value)           \n",
    "                \n",
    "                \n",
    "my_dict={'Theodore': 19, 'Roxanne': 22, 'Mathew': 21, 'Betty': 20}            \n",
    "key_with_max_value,key_with_min_value = find_max_and_min_keys(my_dict) \n",
    "print(f\"The key with max value is {key_with_max_value} and key with minimmum value is {key_with_min_value}.\")\n",
    "        \n",
    "        "
   ]
  },
  {
   "cell_type": "code",
   "execution_count": 11,
   "metadata": {},
   "outputs": [
    {
     "name": "stdout",
     "output_type": "stream",
     "text": [
      "*\n",
      "**\n",
      "***\n",
      "****\n",
      "*****\n",
      "****\n",
      "***\n",
      "**\n",
      "*\n"
     ]
    }
   ],
   "source": [
    "ascending=True\n",
    "for i in range(1,10):\n",
    "    if(i==5):\n",
    "        ascending=False\n",
    "    if(ascending):\n",
    "        for j in range(i):\n",
    "            print(\"*\",end=\"\")\n",
    "        print(\"\")\n",
    "        \n",
    "    else:\n",
    "        for j in range(10-i):\n",
    "            print(\"*\",end=\"\")\n",
    "        print(\"\")    \n",
    "            \n",
    "            \n",
    "    "
   ]
  },
  {
   "cell_type": "markdown",
   "metadata": {},
   "source": [
    "## Python program that prints all the numbers from 0 to 20 except the numbers in the given list [ 5, 6, 12, 15]."
   ]
  },
  {
   "cell_type": "code",
   "execution_count": 12,
   "metadata": {},
   "outputs": [
    {
     "name": "stdout",
     "output_type": "stream",
     "text": [
      "0\n",
      "1\n",
      "2\n",
      "3\n",
      "4\n",
      "7\n",
      "8\n",
      "9\n",
      "10\n",
      "11\n",
      "13\n",
      "14\n",
      "16\n",
      "17\n",
      "18\n",
      "19\n"
     ]
    }
   ],
   "source": [
    "ignore_list=[ 5, 6, 12, 15]\n",
    "\n",
    "for i in range(20):\n",
    "    if i in ignore_list:\n",
    "        continue\n",
    "    else:\n",
    "        print(i)\n",
    "        "
   ]
  },
  {
   "cell_type": "markdown",
   "metadata": {},
   "source": [
    "## Program to count the number of vowels in a given string."
   ]
  },
  {
   "cell_type": "code",
   "execution_count": 13,
   "metadata": {},
   "outputs": [
    {
     "name": "stdout",
     "output_type": "stream",
     "text": [
      "3\n"
     ]
    }
   ],
   "source": [
    "def count_vowels(input_string):\n",
    "    \n",
    "    vowels=[\"a\",\"e\",\"i\",\"o\",\"u\"]\n",
    "    vowel_count=0\n",
    "    \n",
    "    for char in input_string:\n",
    "        \n",
    "        if char in vowels:\n",
    "            vowel_count+=1\n",
    "            \n",
    "    return vowel_count        \n",
    "        \n",
    "my_string = \"Hello World\"\n",
    "print(count_vowels(my_string))"
   ]
  },
  {
   "cell_type": "markdown",
   "metadata": {},
   "source": [
    "## Python program to remove consecutive duplicates from a list."
   ]
  },
  {
   "cell_type": "code",
   "execution_count": 14,
   "metadata": {},
   "outputs": [
    {
     "name": "stdout",
     "output_type": "stream",
     "text": [
      "[0, 1, 2, 3, 4, 5, 6, 7, 8, 9, 4]\n"
     ]
    }
   ],
   "source": [
    "def filter_list(input_list):\n",
    "    \n",
    "    first_element=input_list[0]\n",
    "    output_list=[]\n",
    "    prev_element=first_element\n",
    "    output_list.append(first_element)\n",
    "    \n",
    "    for ele in input_list[1:]:\n",
    "        \n",
    "        current_element=ele\n",
    "        if(current_element==prev_element):\n",
    "            \n",
    "            continue\n",
    "        else:\n",
    "            \n",
    "            output_list.append(current_element)\n",
    "            prev_element=current_element\n",
    "            \n",
    "     \n",
    "    return output_list\n",
    "\n",
    "my_list=[0, 0, 1, 2, 3, 4, 4, 5, 6, 6, 6, 7, 8, 9, 4, 4]\n",
    "filtered_list=filter_list(my_list)\n",
    "print(filtered_list) "
   ]
  },
  {
   "cell_type": "markdown",
   "metadata": {},
   "source": [
    "### Program to read a sample text file and count the words having length greater than or equal to 5.\n"
   ]
  },
  {
   "cell_type": "code",
   "execution_count": 15,
   "metadata": {},
   "outputs": [
    {
     "name": "stdout",
     "output_type": "stream",
     "text": [
      "The number of words in the file sample.txt with length greater than or equals to 5 is : 38.\n"
     ]
    }
   ],
   "source": [
    "def count_lengthier_words(filepath):\n",
    "    \n",
    "    count=0   \n",
    "    with open(filepath,'r') as reader:\n",
    "        \n",
    "        for line in reader:\n",
    "            \n",
    "            words = line.split(\" \")\n",
    "        \n",
    "            for word in words:\n",
    "            \n",
    "                if len(word)>=5:\n",
    "                    \n",
    "                \n",
    "                    count+=1\n",
    "    return count\n",
    "\n",
    "count=count_lengthier_words(\"./sample.txt\")\n",
    "print(f\"The number of words in the file sample.txt with length greater than or equals to 5 is : {count}.\")"
   ]
  },
  {
   "cell_type": "markdown",
   "metadata": {},
   "source": [
    "## Program to read a sample text file and Capitalize the each word and append it to the same file."
   ]
  },
  {
   "cell_type": "code",
   "execution_count": 16,
   "metadata": {},
   "outputs": [],
   "source": [
    "def capitalize_and_append(filepath):\n",
    "    with open(filepath,'a+') as a_writer:\n",
    "    \n",
    "        capitalized_words=\"\"\n",
    "        a_writer.seek(0)\n",
    "        for line in a_writer: \n",
    "            words = line.split(\" \")\n",
    "            for word in words:\n",
    "            \n",
    "                word=word.capitalize()\n",
    "                string_to_be_added=word+\" \" #add a space for spacing betwwen words\n",
    "                capitalized_words += string_to_be_added\n",
    "            \n",
    "     \n",
    "        a_writer.write(\"\\n \\n\") # Move cursor to new line with a line spacing in betwwen for appending text\n",
    "        a_writer.write(capitalized_words)\n",
    "    \n",
    "capitalize_and_append(\"./append.txt\")    "
   ]
  },
  {
   "cell_type": "markdown",
   "metadata": {},
   "source": [
    "## Question No 15\n",
    "\n",
    "`Write a function in Python that takes a normal .txt file path as an input and counts the word in a given list [ the, these, that, and] and displays it.` "
   ]
  },
  {
   "cell_type": "code",
   "execution_count": 17,
   "metadata": {},
   "outputs": [
    {
     "name": "stdout",
     "output_type": "stream",
     "text": [
      "Driven largely by the rapidly developing space programs of Elon Musk’s SpaceX and China, the world saw 114 orbital launches in 2018 — the first triple-digit showing since 1990. This year, orbital launches are on track to exceed 130 for the first time since the 1970s. And that count doesn’t include recent suborbital tourism excursions from Jeff Bezos’ Blue Origin and Richard Branson’s Virgin Galactic. \n",
      "\n",
      "\n",
      "The number of common words in the file sample.txt is : 8.\n"
     ]
    }
   ],
   "source": [
    "def count_common_words(filepath):\n",
    "    \n",
    "    count=0\n",
    "    common_words = [ \"the\", \"these\", \"that\", \"and\"]\n",
    "    with open(filepath,'r') as reader:\n",
    "        \n",
    "        for line in reader:\n",
    "            \n",
    "            print(line)\n",
    "            words = line.split(\" \")\n",
    "        \n",
    "            for word in words:\n",
    "            \n",
    "                if word in common_words:\n",
    "                    count+=1\n",
    "    return count\n",
    "\n",
    "count=count_common_words(\"./sample.txt\")\n",
    "print(\"\\n\")\n",
    "print(f\"The number of common words in the file sample.txt is : {count}.\")"
   ]
  },
  {
   "cell_type": "markdown",
   "metadata": {},
   "source": [
    "## Map, Filter, Reduce Question: \n",
    "\n",
    " Given a list of strings fruits as shown below:\n",
    " fruits = `[\"Apple\", \"Banana\", \"Pear\", \"Apricot\", \"Orange\"]`. \n",
    "Change each of the words to uppercase using `map` function\n",
    "Filter out the words starting with ‘A’ using `filter` functionality\n",
    "Concat all words using `reduce`. \n"
   ]
  },
  {
   "cell_type": "code",
   "execution_count": 18,
   "metadata": {},
   "outputs": [
    {
     "name": "stdout",
     "output_type": "stream",
     "text": [
      "['APPLE', 'BANANA', 'PEAR', 'APRICOT', 'ORANGE']\n"
     ]
    }
   ],
   "source": [
    "fruits = [\"Apple\", \"Banana\", \"Pear\", \"Apricot\", \"Orange\"]\n",
    "capitalized_fruits = list(map( lambda x : x.upper(), fruits))\n",
    "print(capitalized_fruits)                                                    "
   ]
  },
  {
   "cell_type": "code",
   "execution_count": 19,
   "metadata": {},
   "outputs": [
    {
     "name": "stdout",
     "output_type": "stream",
     "text": [
      "['Apple', 'Apricot']\n"
     ]
    }
   ],
   "source": [
    "filtered_words=list(filter(lambda x:x[0]==\"A\",fruits))\n",
    "print(filtered_words)"
   ]
  },
  {
   "cell_type": "code",
   "execution_count": 20,
   "metadata": {},
   "outputs": [
    {
     "name": "stdout",
     "output_type": "stream",
     "text": [
      "AppleBananaPearApricotOrange\n"
     ]
    }
   ],
   "source": [
    "from functools import reduce\n",
    "concatenated_word=reduce(lambda x,y:x+y, fruits)\n",
    "print(concatenated_word)"
   ]
  }
 ],
 "metadata": {
  "kernelspec": {
   "display_name": "Python 3",
   "language": "python",
   "name": "python3"
  },
  "language_info": {
   "codemirror_mode": {
    "name": "ipython",
    "version": 3
   },
   "file_extension": ".py",
   "mimetype": "text/x-python",
   "name": "python",
   "nbconvert_exporter": "python",
   "pygments_lexer": "ipython3",
   "version": "3.6.9"
  }
 },
 "nbformat": 4,
 "nbformat_minor": 4
}
