{
 "cells": [
  {
   "cell_type": "code",
   "execution_count": 1,
   "metadata": {},
   "outputs": [],
   "source": [
    "import psycopg2"
   ]
  },
  {
   "cell_type": "code",
   "execution_count": 8,
   "metadata": {},
   "outputs": [
    {
     "name": "stdout",
     "output_type": "stream",
     "text": [
      "Connection estaiblished successfully with the database\n",
      "All the tables created in the database\n"
     ]
    }
   ],
   "source": [
    "try:\n",
    "    connection = psycopg2.connect(\n",
    "    user=\"postgres\",\n",
    "    password=\"test\",\n",
    "    host=\"localhost\",\n",
    "    port=\"5432\",\n",
    "    database=\"hospitaldb\")\n",
    "\n",
    "    cursor = connection.cursor()\n",
    "    \n",
    "    patient_create_query = '''\n",
    "    CREATE TABLE IF NOT EXISTS Patient(\n",
    "        id INT PRIMARY KEY,\n",
    "        name VARCHAR(100) NOT NULL,\n",
    "        date_of_birth VARCHAR(30) NOT NULL,\n",
    "        gender VARCHAR(10) NOT NULL\n",
    "    )'''\n",
    "    \n",
    "    doctor_specialization_create_query = '''\n",
    "    CREATE TABLE IF NOT EXISTS Doctor_Specialization(\n",
    "        id INT PRIMARY KEY,\n",
    "        specialization_type varchar(100) NOT NULL\n",
    "    )'''\n",
    "    \n",
    "    doctor_create_query = '''\n",
    "    CREATE TABLE IF NOT EXISTS Doctor(\n",
    "        id INT PRIMARY KEY,\n",
    "        name VARCHAR(100) NOT NULL,\n",
    "        specialization INT NOT NULL,\n",
    "        phone_number VARCHAR(15),\n",
    "        FOREIGN KEY(specialization) REFERENCES Doctor_Specialization(id) ON DELETE CASCADE\n",
    "    )'''\n",
    "    \n",
    "    appointment_create_query = '''\n",
    "    CREATE TABLE IF NOT EXISTS Appointment(\n",
    "        id INT PRIMARY KEY,\n",
    "        doctor_id INT NOT NULL,\n",
    "        patient_id INT NOT NULL,\n",
    "        fee INT NOT NULL,\n",
    "        diagnosis VARCHAR(50),\n",
    "        FOREIGN KEY(doctor_id) REFERENCES Doctor(id) ON DELETE CASCADE,\n",
    "        FOREIGN KEY(patient_id) REFERENCES Patient(id) ON DELETE CASCADE\n",
    "    )'''\n",
    "    \n",
    "    cursor.execute(patient_create_query)\n",
    "    cursor.execute(doctor_specialization_create_query)\n",
    "    cursor.execute(doctor_create_query)\n",
    "    cursor.execute(appointment_create_query)\n",
    "    \n",
    "    connection.commit()\n",
    "    \n",
    "except Exception as e:\n",
    "    print(\"An error occured\")\n",
    "    print(e)\n",
    "    \n",
    "else:\n",
    "    print(\"Connection estaiblished successfully with the database\")\n",
    "    print(\"All the tables created in the database\")\n",
    "    \n",
    "finally:\n",
    "    cursor.close()\n",
    "    connection.close()"
   ]
  },
  {
   "cell_type": "code",
   "execution_count": null,
   "metadata": {},
   "outputs": [],
   "source": []
  },
  {
   "cell_type": "code",
   "execution_count": null,
   "metadata": {},
   "outputs": [],
   "source": []
  }
 ],
 "metadata": {
  "kernelspec": {
   "display_name": "Python 3",
   "language": "python",
   "name": "python3"
  },
  "language_info": {
   "codemirror_mode": {
    "name": "ipython",
    "version": 3
   },
   "file_extension": ".py",
   "mimetype": "text/x-python",
   "name": "python",
   "nbconvert_exporter": "python",
   "pygments_lexer": "ipython3",
   "version": "3.6.9"
  }
 },
 "nbformat": 4,
 "nbformat_minor": 4
}
