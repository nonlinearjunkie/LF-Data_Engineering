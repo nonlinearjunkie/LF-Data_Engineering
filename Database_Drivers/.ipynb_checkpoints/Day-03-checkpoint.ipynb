{
 "cells": [
  {
   "cell_type": "code",
   "execution_count": 1,
   "metadata": {},
   "outputs": [],
   "source": [
    "import psycopg2"
   ]
  },
  {
   "cell_type": "code",
   "execution_count": 2,
   "metadata": {},
   "outputs": [
    {
     "name": "stdout",
     "output_type": "stream",
     "text": [
      "Connection estaiblished successfully with the database\n",
      "All the tables created in the database\n"
     ]
    }
   ],
   "source": [
    "try:\n",
    "    connection = psycopg2.connect(\n",
    "    user=\"postgres\",\n",
    "    password=\"test\",\n",
    "    host=\"localhost\",\n",
    "    port=\"5432\",\n",
    "    database=\"hospitaldb\")\n",
    "\n",
    "    cursor = connection.cursor()\n",
    "    \n",
    "    patient_create_query = '''\n",
    "    CREATE TABLE IF NOT EXISTS Patient(\n",
    "    id INT PRIMARY KEY,\n",
    "    name VARCHAR(100) NOT NULL,\n",
    "    date_of_birth VARCHAR(30) NOT NULL,\n",
    "    gender VARCHAR(10) NOT NULL)\n",
    "        '''\n",
    "    \n",
    "    doctor_specialization_create_query = '''\n",
    "    CREATE TABLE IF NOT EXISTS Doctor_Specialization(\n",
    "    id INT PRIMARY KEY,\n",
    "    specialization_type varchar(100) NOT NULL)\n",
    "        '''\n",
    "    \n",
    "    doctor_create_query = '''\n",
    "    CREATE TABLE IF NOT EXISTS Doctor(\n",
    "    id INT PRIMARY KEY,\n",
    "    name VARCHAR(100) NOT NULL,\n",
    "    specialization INT NOT NULL,\n",
    "    phone_number VARCHAR(15),\n",
    "    FOREIGN KEY(specialization) REFERENCES Doctor_Specialization(id) ON DELETE CASCADE)\n",
    "        '''\n",
    "    \n",
    "    appointment_create_query = '''\n",
    "    CREATE TABLE IF NOT EXISTS Appointment(\n",
    "    id INT PRIMARY KEY,\n",
    "    doctor_id INT NOT NULL,\n",
    "    patient_id INT NOT NULL,\n",
    "    fee INT NOT NULL,\n",
    "    diagnosis VARCHAR(50),\n",
    "    FOREIGN KEY(doctor_id) REFERENCES Doctor(id) ON DELETE CASCADE,\n",
    "    FOREIGN KEY(patient_id) REFERENCES Patient(id) ON DELETE CASCADE)\n",
    "        '''\n",
    "    \n",
    "    cursor.execute(patient_create_query)\n",
    "    cursor.execute(doctor_specialization_create_query)\n",
    "    cursor.execute(doctor_create_query)\n",
    "    cursor.execute(appointment_create_query)\n",
    "    \n",
    "    connection.commit()\n",
    "    \n",
    "except Exception as e:\n",
    "    print(\"An error occured\")\n",
    "    print(e)\n",
    "    \n",
    "else:\n",
    "    print(\"Connection estaiblished successfully with the database\")\n",
    "    print(\"All the tables created in the database\")\n",
    "    \n",
    "finally:\n",
    "    cursor.close()\n",
    "    connection.close()"
   ]
  },
  {
   "cell_type": "code",
   "execution_count": 3,
   "metadata": {},
   "outputs": [
    {
     "name": "stdout",
     "output_type": "stream",
     "text": [
      "Connection estaiblished successfully with the database\n",
      "Data Successfully inserted into the patient,doctor specialization and doctor tables\n"
     ]
    }
   ],
   "source": [
    "try:\n",
    "    connection = psycopg2.connect(\n",
    "    user=\"postgres\",\n",
    "    password=\"test\",\n",
    "    host=\"localhost\",\n",
    "    port=\"5432\",\n",
    "    database=\"hospitaldb\")\n",
    "    \n",
    "    cursor = connection.cursor()\n",
    "    \n",
    "    patient_insert_query = '''\n",
    "    INSERT INTO Patient\n",
    "    VALUES(1,'Jane Henderson','1989-09-19','Female'),\n",
    "    (2,'Alice Sprigg','1991-11-12','Female'),\n",
    "    (3,'JDave Carr','1995-03-28','Male'),\n",
    "    (4,'Morris Beckman','2001-07-07','Male')\n",
    "    '''\n",
    "    \n",
    "    doctor_specialization_insert_query='''\n",
    "    INSERT INTO doctor_Specialization(\"id\",\"specialization_type\")\n",
    "    VALUES (1,'Anaesthesiologist'),\n",
    "    (2,'Surgeon'),\n",
    "    (3,'Psychiatrist');\n",
    "    '''\n",
    "    \n",
    "    doctor_insert_query = '''\n",
    "    INSERT INTO Doctor\n",
    "    VALUES(1,'Lionel Smart',1 ,2811232323 ),\n",
    "    (2,'Michelle Sanders',2 ,1899912310 ),\n",
    "    (3,'Pretti Patel',3 ,7980123982 ),\n",
    "    (4,'Sadiq Khan',1 ,7983129813 ),\n",
    "    (5,'Chaz Smith',2 ,2039820398 )\n",
    "    '''\n",
    "    \n",
    "    cursor.execute(patient_insert_query)\n",
    "    cursor.execute(doctor_specialization_insert_query)\n",
    "    cursor.execute(doctor_insert_query)\n",
    "\n",
    "  \n",
    "\n",
    "    connection.commit()\n",
    "    \n",
    "except Exception as e:\n",
    "    print(\"An error occured\")\n",
    "    print(e)\n",
    "    \n",
    "else:\n",
    "    print(\"Connection estaiblished successfully with the database\")\n",
    "    print(\"Data Successfully inserted into the patient,doctor specialization and doctor tables\")\n",
    "    \n",
    "finally:\n",
    "    cursor.close()\n",
    "    connection.close()"
   ]
  },
  {
   "cell_type": "code",
   "execution_count": 6,
   "metadata": {},
   "outputs": [
    {
     "name": "stdout",
     "output_type": "stream",
     "text": [
      "Connection estaiblished successfully with the database\n",
      "Data Successfully inserted into the Appointment table\n"
     ]
    }
   ],
   "source": [
    "try:\n",
    "    connection = psycopg2.connect(\n",
    "    user=\"postgres\",\n",
    "    password=\"test\",\n",
    "    host=\"localhost\",\n",
    "    port=\"5432\",\n",
    "    database=\"hospitaldb\")\n",
    "    \n",
    "    cursor = connection.cursor()\n",
    "    \n",
    "    appointment_insert_query = '''\n",
    "    INSERT INTO appointment VALUES(%(id)s, %(doctor_id)s, %(patient_id)s, %(fee)s, %(diagnosis)s)\n",
    "    '''\n",
    "    appointment_data = [\n",
    "        {\n",
    "        'id':1,\n",
    "        'doctor_id':1,\n",
    "        'patient_id': 2,\n",
    "        'fee': 1000,\n",
    "        'diagnosis': ''\n",
    "        },\n",
    "        {\n",
    "        'id':2,\n",
    "        'doctor_id':1,\n",
    "        'patient_id': 4,\n",
    "        'fee': 1000,\n",
    "        'diagnosis': 'Headache'\n",
    "        },\n",
    "        {\n",
    "        'id':3,\n",
    "        'doctor_id':4,\n",
    "        'patient_id': 3,\n",
    "        'fee':2000,\n",
    "        'diagnosis': ''\n",
    "        },\n",
    "        {\n",
    "        'id':4,\n",
    "        'doctor_id':2,\n",
    "        'patient_id': 1,\n",
    "        'fee': 1500,\n",
    "        'diagnosis': 'Backpain'\n",
    "        }\n",
    "    ]\n",
    "      \n",
    "    cursor.executemany(appointment_insert_query, appointment_data)\n",
    "    connection.commit()\n",
    "    \n",
    "except Exception as e:\n",
    "    print(\"An error occured\")\n",
    "    print(e)\n",
    "    \n",
    "else:\n",
    "    print(\"Connection estaiblished successfully with the database\")\n",
    "    print(\"Data Successfully inserted into the Appointment table\")\n",
    "    \n",
    "finally:\n",
    "    cursor.close()\n",
    "    connection.close()"
   ]
  },
  {
   "cell_type": "code",
   "execution_count": 8,
   "metadata": {},
   "outputs": [
    {
     "name": "stdout",
     "output_type": "stream",
     "text": [
      "The count of patients born after 1990 is 3.\n"
     ]
    }
   ],
   "source": [
    "try:\n",
    "    connection = psycopg2.connect(\n",
    "    user=\"postgres\",\n",
    "    password=\"test\",\n",
    "    host=\"localhost\",\n",
    "    port=\"5432\",\n",
    "    database=\"hospitaldb\")\n",
    "    \n",
    "    cursor = connection.cursor()\n",
    "    get_patient_count_query = \"SELECT COUNT(*) FROM Patient WHERE date_of_birth > '1990-12-31'\"\n",
    "    cursor.execute(get_patient_count_query)\n",
    "    no_of_patients=cursor.fetchall()[0][0]\n",
    "    \n",
    "except Exception as e:\n",
    "    print(\"An error occured\")\n",
    "    print(e)\n",
    "    \n",
    "else:\n",
    "    print(f\"The count of patients born after 1990 is {no_of_patients}.\")\n",
    "    \n",
    "finally:\n",
    "    cursor.close()\n",
    "    connection.close()"
   ]
  },
  {
   "cell_type": "code",
   "execution_count": 9,
   "metadata": {},
   "outputs": [
    {
     "name": "stdout",
     "output_type": "stream",
     "text": [
      "[(4, 2, 1, 1500, 'Backpain', 2, 'Surgeon')]\n"
     ]
    }
   ],
   "source": [
    "try:\n",
    "    connection = psycopg2.connect(\n",
    "    user=\"postgres\",\n",
    "    password=\"test\",\n",
    "    host=\"localhost\",\n",
    "    port=\"5432\",\n",
    "    database=\"hospitaldb\")\n",
    "    \n",
    "    cursor = connection.cursor()\n",
    "    select_appointment_query = '''\n",
    "    SELECT * FROM appointment as a \n",
    "    INNER JOIN doctor_Specialization AS ds \n",
    "    ON a.doctor_id =ds.id\n",
    "    WHERE ds.specialization_type = 'Surgeon'\n",
    "    '''\n",
    "    cursor.execute(select_appointment_query)\n",
    "    data_fetched=cursor.fetchall()\n",
    "    \n",
    "except Exception as e:\n",
    "    print(\"An error occured\")\n",
    "    print(e)\n",
    "    \n",
    "else:\n",
    "    print(data_fetched)\n",
    "    \n",
    "finally:\n",
    "    cursor.close()\n",
    "    connection.close()"
   ]
  },
  {
   "cell_type": "code",
   "execution_count": 10,
   "metadata": {},
   "outputs": [
    {
     "name": "stdout",
     "output_type": "stream",
     "text": [
      "Fee of doctor updated in appointment table\n"
     ]
    }
   ],
   "source": [
    "try:\n",
    "    connection = psycopg2.connect(\n",
    "    user=\"postgres\",\n",
    "    password=\"test\",\n",
    "    host=\"localhost\",\n",
    "    port=\"5432\",\n",
    "    database=\"hospitaldb\")\n",
    "    \n",
    "    cursor = connection.cursor()\n",
    "    \n",
    "    fee_update_query = '''\n",
    "    UPDATE appointment SET fee=fee-0.25*fee\n",
    "      '''\n",
    "    \n",
    "    cursor.execute(fee_update_query)\n",
    "    connection.commit()\n",
    "    \n",
    "except Exception as e:\n",
    "    print(\"An error occured\")\n",
    "    print(e)\n",
    "    \n",
    "else:\n",
    "    print(\"Fee of doctor updated in appointment table\")\n",
    "    \n",
    "finally:\n",
    "    cursor.close()\n",
    "    connection.close()"
   ]
  },
  {
   "cell_type": "code",
   "execution_count": 11,
   "metadata": {},
   "outputs": [
    {
     "name": "stdout",
     "output_type": "stream",
     "text": [
      "Fee of doctor updated in doctor table\n"
     ]
    }
   ],
   "source": [
    "try:\n",
    "    connection = psycopg2.connect(\n",
    "    user=\"postgres\",\n",
    "    password=\"test\",\n",
    "    host=\"localhost\",\n",
    "    port=\"5432\",\n",
    "    database=\"hospitaldb\")\n",
    "    \n",
    "    cursor = connection.cursor()\n",
    "    \n",
    "    phone_num_update_query = '''\n",
    "    UPDATE doctor SET phone_number=1231292310\n",
    "    WHERE name = 'Chaz Smith'\n",
    "      '''\n",
    "    \n",
    "    cursor.execute(phone_num_update_query)\n",
    "    connection.commit()\n",
    "    \n",
    "except Exception as e:\n",
    "    print(\"An error occured\")\n",
    "    print(e)\n",
    "    \n",
    "else:\n",
    "    print(\"Fee of doctor updated in doctor table\")\n",
    "    \n",
    "finally:\n",
    "    cursor.close()\n",
    "    connection.close()"
   ]
  },
  {
   "cell_type": "code",
   "execution_count": 12,
   "metadata": {},
   "outputs": [
    {
     "name": "stdout",
     "output_type": "stream",
     "text": [
      "Deletion done from Doctors table\n"
     ]
    }
   ],
   "source": [
    "try:\n",
    "    connection = psycopg2.connect(\n",
    "    user=\"postgres\",\n",
    "    password=\"test\",\n",
    "    host=\"localhost\",\n",
    "    port=\"5432\",\n",
    "    database=\"hospitaldb\")\n",
    "    \n",
    "    cursor = connection.cursor()\n",
    "    \n",
    "    delete_query=''' \n",
    "    DELETE FROM doctor\n",
    "    WHERE id IN (SELECT id from doctor_specialization WHERE specialization_type = 'Psychiatrist')\n",
    "    '''\n",
    "    \n",
    "    cursor.execute(delete_query)\n",
    "    connection.commit()\n",
    "    \n",
    "except Exception as e:\n",
    "    print(\"An error occured\")\n",
    "    print(e)\n",
    "    \n",
    "else:\n",
    "    print(\"Deletion done from Doctors table\")\n",
    "    \n",
    "finally:\n",
    "    cursor.close()\n",
    "    connection.close()"
   ]
  }
 ],
 "metadata": {
  "kernelspec": {
   "display_name": "Python 3",
   "language": "python",
   "name": "python3"
  },
  "language_info": {
   "codemirror_mode": {
    "name": "ipython",
    "version": 3
   },
   "file_extension": ".py",
   "mimetype": "text/x-python",
   "name": "python",
   "nbconvert_exporter": "python",
   "pygments_lexer": "ipython3",
   "version": "3.6.9"
  }
 },
 "nbformat": 4,
 "nbformat_minor": 4
}
