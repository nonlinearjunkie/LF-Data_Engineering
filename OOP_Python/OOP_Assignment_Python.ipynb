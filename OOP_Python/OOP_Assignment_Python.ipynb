{
 "cells": [
  {
   "cell_type": "markdown",
   "metadata": {},
   "source": [
    "### Question-03\n",
    "Create at least 4 classes having semantic meaning (having relation to each other) so that multiple inheritance can be achieved and incorporating the following things in some of them:\n",
    "- `@classmethod` \n",
    "- `@staticmethod`\n",
    "- ` @property` and setter for it\n",
    "- Class_variable\n"
   ]
  },
  {
   "cell_type": "code",
   "execution_count": 22,
   "metadata": {},
   "outputs": [
    {
     "name": "stdout",
     "output_type": "stream",
     "text": [
      "This is Apple phone and costs $1000.It has camera with resolution of 12MP and an internal storage of 64GB.The phone comes loaded with ios13.\n",
      "Technology\n",
      "Upgrading current OS to :IOS 14\n",
      "Grant Peters\n"
     ]
    }
   ],
   "source": [
    "class Telephone:\n",
    "    \n",
    "    product_category=\"Technology\"\n",
    "    \n",
    "    def __init__(self, brand, price):\n",
    "        \n",
    "        self.brand=brand\n",
    "        self.price=price\n",
    "        \n",
    "    def make_call(self,phone_no):\n",
    "        \n",
    "        print(\"Calling to: \" + str(phone_no))\n",
    "        \n",
    "    @classmethod\n",
    "    def usingString(cls, detailsString):\n",
    "        \n",
    "        brand,price = detailsString.split(\" \")\n",
    "        return cls(brand,price)\n",
    "        \n",
    "class Camera:\n",
    "    \n",
    "    def __init__(self, resolution):\n",
    "        \n",
    "        self.resolution=resolution\n",
    "        \n",
    "    def take_picture(self):\n",
    "        \n",
    "        print(\"Taking a picture..\")\n",
    "        \n",
    "class Mobile_phone(Telephone, Camera):\n",
    "    \n",
    "    def __init__(self, brand, price, resolution, storage):\n",
    "        \n",
    "        Telephone.__init__(self,brand,price)\n",
    "        Camera.__init__(self,resolution)\n",
    "        self.storage=storage\n",
    "        \n",
    "    def play_music(self,song):\n",
    "        \n",
    "        print(\"Playing the song: \"+ song)\n",
    "        \n",
    "        \n",
    "class Smart_phone(Mobile_phone):\n",
    "    \n",
    "    def __init__(self, brand, price, resolution, storage,os,owner_fname,owner_lname):\n",
    "        \n",
    "        Mobile_phone.__init__(self,brand, price, resolution, storage)\n",
    "        self.os=os\n",
    "        self.owner_fname=owner_fname\n",
    "        self.owner_lname=owner_lname\n",
    "        \n",
    "    def __str__(self):\n",
    "        \n",
    "        return f\"This is {self.brand} phone and costs {self.price}.\" +f\"It has camera with resolution of {self.resolution} and an internal storage of {self.storage}.\"+f\"The phone comes loaded with {self.os}.\"\n",
    "        \n",
    "    def voice_search(self):\n",
    "        \n",
    "        print(\"Speak something to search...\")\n",
    "        \n",
    "    @staticmethod\n",
    "    def upgrade_os(new_os):\n",
    "        \n",
    "        print(\"Upgrading current OS to :\"+ new_os)\n",
    "        \n",
    "    @property\n",
    "    def owner_name(self):\n",
    "        \n",
    "        return self.owner_fname+ \" \"+self.owner_lname\n",
    "    \n",
    "    @owner_name.setter\n",
    "    def owner_name(self,owner_full_name):\n",
    "        self.owner_fname,self.owner_lname=owner_full_name.split(\" \")\n",
    "    \n",
    "\n",
    "my_smart_phone=Smart_phone(\"Apple\", \"$1000\",\"12MP\", \"64GB\" ,\"ios13\",\"Grant\", \"Peters\")\n",
    "print(my_smart_phone)\n",
    "print(my_smart_phone.product_category)\n",
    "my_smart_phone.upgrade_os(\"IOS 14\")\n",
    "print(my_smart_phone.owner_name)\n"
   ]
  },
  {
   "cell_type": "code",
   "execution_count": 24,
   "metadata": {},
   "outputs": [
    {
     "name": "stdout",
     "output_type": "stream",
     "text": [
      "One-Plus\n",
      "$700\n"
     ]
    }
   ],
   "source": [
    "my_telephone= Telephone.usingString(\"One-Plus $700\")\n",
    "print(my_telephone.brand)\n",
    "print(my_telephone.price)"
   ]
  },
  {
   "cell_type": "markdown",
   "metadata": {},
   "source": [
    "Create a class for complex number implementing all the arithmetic operations and relational operations related dunder methods:\n",
    "- `__add__`\n",
    "- `__iadd__`\n",
    "- `__mult__`"
   ]
  },
  {
   "cell_type": "code",
   "execution_count": 32,
   "metadata": {},
   "outputs": [
    {
     "name": "stdout",
     "output_type": "stream",
     "text": [
      "2 + j3 \n",
      "5 + j6 \n"
     ]
    },
    {
     "ename": "TypeError",
     "evalue": "unsupported operand type(s) for *: 'Complex' and 'Complex'",
     "output_type": "error",
     "traceback": [
      "\u001b[0;31m---------------------------------------------------------------------------\u001b[0m",
      "\u001b[0;31mTypeError\u001b[0m                                 Traceback (most recent call last)",
      "\u001b[0;32m<ipython-input-32-48c3497537e1>\u001b[0m in \u001b[0;36m<module>\u001b[0;34m\u001b[0m\n\u001b[1;32m     34\u001b[0m \u001b[0msum_c1_c2\u001b[0m\u001b[0;34m.\u001b[0m\u001b[0mshow_comp_num\u001b[0m\u001b[0;34m(\u001b[0m\u001b[0;34m)\u001b[0m\u001b[0;34m\u001b[0m\u001b[0;34m\u001b[0m\u001b[0m\n\u001b[1;32m     35\u001b[0m \u001b[0;34m\u001b[0m\u001b[0m\n\u001b[0;32m---> 36\u001b[0;31m \u001b[0mprod_c1_c2\u001b[0m\u001b[0;34m=\u001b[0m\u001b[0mc1\u001b[0m\u001b[0;34m*\u001b[0m\u001b[0mc2\u001b[0m\u001b[0;34m\u001b[0m\u001b[0;34m\u001b[0m\u001b[0m\n\u001b[0m\u001b[1;32m     37\u001b[0m \u001b[0mprod_c1_c2\u001b[0m\u001b[0;34m.\u001b[0m\u001b[0mshow_comp_num\u001b[0m\u001b[0;34m(\u001b[0m\u001b[0;34m)\u001b[0m\u001b[0;34m\u001b[0m\u001b[0;34m\u001b[0m\u001b[0m\n",
      "\u001b[0;31mTypeError\u001b[0m: unsupported operand type(s) for *: 'Complex' and 'Complex'"
     ]
    }
   ],
   "source": [
    "class Complex:\n",
    "    \n",
    "    def __init__(self,real,imag):\n",
    "        \n",
    "        self.real=real\n",
    "        self.imag=imag\n",
    "        \n",
    "    def show_comp_num(self):\n",
    "        \n",
    "        print(f\"{self.real} + j{self.imag} \")\n",
    "        \n",
    "    def __add__(self,cnum):\n",
    "        \n",
    "        real_part = self.real + cnum.real\n",
    "        imag_part = self.imag + cnum.imag\n",
    "        \n",
    "        return Complex(real_part,imag_part)\n",
    "    \n",
    "    def __mult__(self,cnum):\n",
    "        \n",
    "        real_part = (self.real*cnum.real) - (self.imag*cnum.imag)\n",
    "        imag_part = (self.real*cnum.imag) + (self.imag*cnum.real)\n",
    "        \n",
    "        return Complex(real_part,imag_part)\n",
    "        \n",
    "        \n",
    "        \n",
    "        \n",
    "c1=Complex(2,3)\n",
    "c1.show_comp_num()\n",
    "c2=Complex(3,3)\n",
    "\n",
    "sum_c1_c2=c1+c2\n",
    "sum_c1_c2.show_comp_num()\n",
    "\n",
    "prod_c1_c2=c1*c2\n",
    "prod_c1_c2.show_comp_num()"
   ]
  },
  {
   "cell_type": "code",
   "execution_count": null,
   "metadata": {},
   "outputs": [],
   "source": []
  }
 ],
 "metadata": {
  "kernelspec": {
   "display_name": "Python 3",
   "language": "python",
   "name": "python3"
  },
  "language_info": {
   "codemirror_mode": {
    "name": "ipython",
    "version": 3
   },
   "file_extension": ".py",
   "mimetype": "text/x-python",
   "name": "python",
   "nbconvert_exporter": "python",
   "pygments_lexer": "ipython3",
   "version": "3.6.9"
  }
 },
 "nbformat": 4,
 "nbformat_minor": 4
}
